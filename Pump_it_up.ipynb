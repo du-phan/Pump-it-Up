{
 "cells": [
  {
   "cell_type": "markdown",
   "metadata": {},
   "source": [
    "## Hypothesis:\n",
    "\n",
    "So what are the possible patterns of a non-functional waterpoint ? \n",
    "\n",
    "* Location: \n",
    "    * if the waterpoint is in somewhere with very low population concentration -> no maintenance. \n",
    "    * in contrast, when it is used by a lot of people -> not enough maintenance.\n",
    "    * waterpoints that are near each other are likely to have the same status.\n",
    "* There might be some correlation between Quality/Cost and the functioning of a pump.\n",
    "* Construction year: an old pump is more likely to have problem than a new one.\n",
    "* The type of pump might be intertesting too. \n",
    "\n"
   ]
  },
  {
   "cell_type": "markdown",
   "metadata": {},
   "source": [
    "## Data cleaning"
   ]
  },
  {
   "cell_type": "code",
   "execution_count": 328,
   "metadata": {
    "collapsed": false
   },
   "outputs": [],
   "source": [
    "# -*- coding: utf-8 -*-\n",
    "import re\n",
    "import time\n",
    "import operator\n",
    "import numpy as np\n",
    "import pandas as pd \n",
    "import collections\n",
    "from datetime import datetime, date, timedelta\n",
    "import unicodedata\n",
    "import collections\n",
    "import seaborn as sns\n",
    "import collections\n",
    "import matplotlib.pylab as pylab\n",
    "import matplotlib.pyplot as plt\n",
    "from tqdm import tqdm\n",
    "\n",
    "from sklearn.preprocessing import Imputer\n",
    "from sklearn import preprocessing\n",
    "from sklearn import cross_validation\n",
    "from sklearn.ensemble import RandomForestClassifier \n",
    "\n",
    "%matplotlib inline\n",
    "\n",
    "pylab.rcParams['figure.figsize'] = 13,10\n",
    "\n",
    "plt.style.use('bmh')\n",
    "colors = ['#348ABD', '#A60628', '#7A68A6', '#467821', '#D55E00', \n",
    "          '#CC79A7', '#56B4E9', '#009E73', '#F0E442', '#0072B2']"
   ]
  },
  {
   "cell_type": "code",
   "execution_count": 329,
   "metadata": {
    "collapsed": true
   },
   "outputs": [],
   "source": [
    "train_set = pd.DataFrame.from_csv('data/training_set.csv')\n",
    "label_set = pd.DataFrame.from_csv('data/label_set.csv')\n",
    "test_set = pd.DataFrame.from_csv('data/test_set.csv')"
   ]
  },
  {
   "cell_type": "code",
   "execution_count": 330,
   "metadata": {
    "collapsed": false
   },
   "outputs": [
    {
     "data": {
      "text/plain": [
       "(59400, 39)"
      ]
     },
     "execution_count": 330,
     "metadata": {},
     "output_type": "execute_result"
    }
   ],
   "source": [
    "train_set.shape"
   ]
  },
  {
   "cell_type": "markdown",
   "metadata": {},
   "source": [
    "We heve 59 400 data points with 40 features."
   ]
  },
  {
   "cell_type": "code",
   "execution_count": 331,
   "metadata": {
    "collapsed": false
   },
   "outputs": [
    {
     "data": {
      "text/html": [
       "<div>\n",
       "<table border=\"1\" class=\"dataframe\">\n",
       "  <thead>\n",
       "    <tr style=\"text-align: right;\">\n",
       "      <th></th>\n",
       "      <th>amount_tsh</th>\n",
       "      <th>date_recorded</th>\n",
       "      <th>funder</th>\n",
       "      <th>gps_height</th>\n",
       "      <th>installer</th>\n",
       "      <th>longitude</th>\n",
       "      <th>latitude</th>\n",
       "      <th>wpt_name</th>\n",
       "      <th>num_private</th>\n",
       "      <th>basin</th>\n",
       "      <th>...</th>\n",
       "      <th>payment_type</th>\n",
       "      <th>water_quality</th>\n",
       "      <th>quality_group</th>\n",
       "      <th>quantity</th>\n",
       "      <th>quantity_group</th>\n",
       "      <th>source</th>\n",
       "      <th>source_type</th>\n",
       "      <th>source_class</th>\n",
       "      <th>waterpoint_type</th>\n",
       "      <th>waterpoint_type_group</th>\n",
       "    </tr>\n",
       "    <tr>\n",
       "      <th>id</th>\n",
       "      <th></th>\n",
       "      <th></th>\n",
       "      <th></th>\n",
       "      <th></th>\n",
       "      <th></th>\n",
       "      <th></th>\n",
       "      <th></th>\n",
       "      <th></th>\n",
       "      <th></th>\n",
       "      <th></th>\n",
       "      <th></th>\n",
       "      <th></th>\n",
       "      <th></th>\n",
       "      <th></th>\n",
       "      <th></th>\n",
       "      <th></th>\n",
       "      <th></th>\n",
       "      <th></th>\n",
       "      <th></th>\n",
       "      <th></th>\n",
       "      <th></th>\n",
       "    </tr>\n",
       "  </thead>\n",
       "  <tbody>\n",
       "    <tr>\n",
       "      <th>69572</th>\n",
       "      <td>6000.0</td>\n",
       "      <td>2011-03-14</td>\n",
       "      <td>Roman</td>\n",
       "      <td>1390</td>\n",
       "      <td>Roman</td>\n",
       "      <td>34.938093</td>\n",
       "      <td>-9.856322</td>\n",
       "      <td>none</td>\n",
       "      <td>0</td>\n",
       "      <td>Lake Nyasa</td>\n",
       "      <td>...</td>\n",
       "      <td>annually</td>\n",
       "      <td>soft</td>\n",
       "      <td>good</td>\n",
       "      <td>enough</td>\n",
       "      <td>enough</td>\n",
       "      <td>spring</td>\n",
       "      <td>spring</td>\n",
       "      <td>groundwater</td>\n",
       "      <td>communal standpipe</td>\n",
       "      <td>communal standpipe</td>\n",
       "    </tr>\n",
       "    <tr>\n",
       "      <th>8776</th>\n",
       "      <td>0.0</td>\n",
       "      <td>2013-03-06</td>\n",
       "      <td>Grumeti</td>\n",
       "      <td>1399</td>\n",
       "      <td>GRUMETI</td>\n",
       "      <td>34.698766</td>\n",
       "      <td>-2.147466</td>\n",
       "      <td>Zahanati</td>\n",
       "      <td>0</td>\n",
       "      <td>Lake Victoria</td>\n",
       "      <td>...</td>\n",
       "      <td>never pay</td>\n",
       "      <td>soft</td>\n",
       "      <td>good</td>\n",
       "      <td>insufficient</td>\n",
       "      <td>insufficient</td>\n",
       "      <td>rainwater harvesting</td>\n",
       "      <td>rainwater harvesting</td>\n",
       "      <td>surface</td>\n",
       "      <td>communal standpipe</td>\n",
       "      <td>communal standpipe</td>\n",
       "    </tr>\n",
       "    <tr>\n",
       "      <th>34310</th>\n",
       "      <td>25.0</td>\n",
       "      <td>2013-02-25</td>\n",
       "      <td>Lottery Club</td>\n",
       "      <td>686</td>\n",
       "      <td>World vision</td>\n",
       "      <td>37.460664</td>\n",
       "      <td>-3.821329</td>\n",
       "      <td>Kwa Mahundi</td>\n",
       "      <td>0</td>\n",
       "      <td>Pangani</td>\n",
       "      <td>...</td>\n",
       "      <td>per bucket</td>\n",
       "      <td>soft</td>\n",
       "      <td>good</td>\n",
       "      <td>enough</td>\n",
       "      <td>enough</td>\n",
       "      <td>dam</td>\n",
       "      <td>dam</td>\n",
       "      <td>surface</td>\n",
       "      <td>communal standpipe multiple</td>\n",
       "      <td>communal standpipe</td>\n",
       "    </tr>\n",
       "  </tbody>\n",
       "</table>\n",
       "<p>3 rows × 39 columns</p>\n",
       "</div>"
      ],
      "text/plain": [
       "       amount_tsh date_recorded        funder  gps_height     installer  \\\n",
       "id                                                                        \n",
       "69572      6000.0    2011-03-14         Roman        1390         Roman   \n",
       "8776          0.0    2013-03-06       Grumeti        1399       GRUMETI   \n",
       "34310        25.0    2013-02-25  Lottery Club         686  World vision   \n",
       "\n",
       "       longitude  latitude     wpt_name  num_private          basin  \\\n",
       "id                                                                    \n",
       "69572  34.938093 -9.856322         none            0     Lake Nyasa   \n",
       "8776   34.698766 -2.147466     Zahanati            0  Lake Victoria   \n",
       "34310  37.460664 -3.821329  Kwa Mahundi            0        Pangani   \n",
       "\n",
       "               ...          payment_type water_quality  quality_group  \\\n",
       "id             ...                                                      \n",
       "69572          ...              annually          soft           good   \n",
       "8776           ...             never pay          soft           good   \n",
       "34310          ...            per bucket          soft           good   \n",
       "\n",
       "           quantity quantity_group                source  \\\n",
       "id                                                         \n",
       "69572        enough         enough                spring   \n",
       "8776   insufficient   insufficient  rainwater harvesting   \n",
       "34310        enough         enough                   dam   \n",
       "\n",
       "                source_type source_class              waterpoint_type  \\\n",
       "id                                                                      \n",
       "69572                spring  groundwater           communal standpipe   \n",
       "8776   rainwater harvesting      surface           communal standpipe   \n",
       "34310                   dam      surface  communal standpipe multiple   \n",
       "\n",
       "      waterpoint_type_group  \n",
       "id                           \n",
       "69572    communal standpipe  \n",
       "8776     communal standpipe  \n",
       "34310    communal standpipe  \n",
       "\n",
       "[3 rows x 39 columns]"
      ]
     },
     "execution_count": 331,
     "metadata": {},
     "output_type": "execute_result"
    }
   ],
   "source": [
    "train_set.head(3)"
   ]
  },
  {
   "cell_type": "code",
   "execution_count": 332,
   "metadata": {
    "collapsed": false
   },
   "outputs": [
    {
     "data": {
      "text/html": [
       "<div>\n",
       "<table border=\"1\" class=\"dataframe\">\n",
       "  <thead>\n",
       "    <tr style=\"text-align: right;\">\n",
       "      <th></th>\n",
       "      <th>status_group</th>\n",
       "    </tr>\n",
       "    <tr>\n",
       "      <th>id</th>\n",
       "      <th></th>\n",
       "    </tr>\n",
       "  </thead>\n",
       "  <tbody>\n",
       "    <tr>\n",
       "      <th>69572</th>\n",
       "      <td>functional</td>\n",
       "    </tr>\n",
       "    <tr>\n",
       "      <th>8776</th>\n",
       "      <td>functional</td>\n",
       "    </tr>\n",
       "    <tr>\n",
       "      <th>34310</th>\n",
       "      <td>functional</td>\n",
       "    </tr>\n",
       "  </tbody>\n",
       "</table>\n",
       "</div>"
      ],
      "text/plain": [
       "      status_group\n",
       "id                \n",
       "69572   functional\n",
       "8776    functional\n",
       "34310   functional"
      ]
     },
     "execution_count": 332,
     "metadata": {},
     "output_type": "execute_result"
    }
   ],
   "source": [
    "label_set.head(3)"
   ]
  },
  {
   "cell_type": "markdown",
   "metadata": {},
   "source": [
    "Let's merge the 2 sets for easier data exploration:"
   ]
  },
  {
   "cell_type": "code",
   "execution_count": 333,
   "metadata": {
    "collapsed": false
   },
   "outputs": [],
   "source": [
    "train_set = pd.merge(train_set, label_set, left_index=True, right_index=True)"
   ]
  },
  {
   "cell_type": "markdown",
   "metadata": {},
   "source": [
    "Let's check for Nan values:"
   ]
  },
  {
   "cell_type": "code",
   "execution_count": 334,
   "metadata": {
    "collapsed": false
   },
   "outputs": [
    {
     "data": {
      "text/plain": [
       "amount_tsh                   0\n",
       "date_recorded                0\n",
       "funder                    3635\n",
       "gps_height                   0\n",
       "installer                 3655\n",
       "longitude                    0\n",
       "latitude                     0\n",
       "wpt_name                     0\n",
       "num_private                  0\n",
       "basin                        0\n",
       "subvillage                 371\n",
       "region                       0\n",
       "region_code                  0\n",
       "district_code                0\n",
       "lga                          0\n",
       "ward                         0\n",
       "population                   0\n",
       "public_meeting            3334\n",
       "recorded_by                  0\n",
       "scheme_management         3877\n",
       "scheme_name              28166\n",
       "permit                    3056\n",
       "construction_year            0\n",
       "extraction_type              0\n",
       "extraction_type_group        0\n",
       "extraction_type_class        0\n",
       "management                   0\n",
       "management_group             0\n",
       "payment                      0\n",
       "payment_type                 0\n",
       "water_quality                0\n",
       "quality_group                0\n",
       "quantity                     0\n",
       "quantity_group               0\n",
       "source                       0\n",
       "source_type                  0\n",
       "source_class                 0\n",
       "waterpoint_type              0\n",
       "waterpoint_type_group        0\n",
       "status_group                 0\n",
       "dtype: int64"
      ]
     },
     "execution_count": 334,
     "metadata": {},
     "output_type": "execute_result"
    }
   ],
   "source": [
    "train_set.isnull().sum(axis=0)"
   ]
  },
  {
   "cell_type": "markdown",
   "metadata": {},
   "source": [
    "Ok so there are 7 variables with Nan values: `funder`, `installer`, `subvillage`, `public_meeting`, `scheme_management`, `scheme_name` and `permit`.\n",
    "\n",
    "Among them, `scheme_name` is the most severe one as half of its rows are Nan.\n",
    "\n",
    "We will thus remove it for instance. "
   ]
  },
  {
   "cell_type": "code",
   "execution_count": 335,
   "metadata": {
    "collapsed": true
   },
   "outputs": [],
   "source": [
    "train_set = train_set.drop('scheme_name', 1)"
   ]
  },
  {
   "cell_type": "code",
   "execution_count": 336,
   "metadata": {
    "collapsed": true
   },
   "outputs": [],
   "source": [
    "test_set = test_set.drop('scheme_name',1)"
   ]
  },
  {
   "cell_type": "code",
   "execution_count": 337,
   "metadata": {
    "collapsed": false
   },
   "outputs": [
    {
     "data": {
      "text/plain": [
       "(59400, 39)"
      ]
     },
     "execution_count": 337,
     "metadata": {},
     "output_type": "execute_result"
    }
   ],
   "source": [
    "train_set.shape"
   ]
  },
  {
   "cell_type": "markdown",
   "metadata": {},
   "source": [
    "Let's take a look at other variables with missing data:"
   ]
  },
  {
   "cell_type": "code",
   "execution_count": 338,
   "metadata": {
    "collapsed": false,
    "scrolled": true
   },
   "outputs": [
    {
     "data": {
      "text/plain": [
       "Government Of Tanzania         9084\n",
       "Danida                         3114\n",
       "Hesawa                         2202\n",
       "Rwssp                          1374\n",
       "World Bank                     1349\n",
       "Kkkt                           1287\n",
       "World Vision                   1246\n",
       "Unicef                         1057\n",
       "Tasaf                           877\n",
       "District Council                843\n",
       "Dhv                             829\n",
       "Private Individual              826\n",
       "Dwsp                            811\n",
       "0                               777\n",
       "Norad                           765\n",
       "Germany Republi                 610\n",
       "Tcrs                            602\n",
       "Ministry Of Water               590\n",
       "Water                           583\n",
       "Dwe                             484\n",
       "Netherlands                     470\n",
       "Hifab                           450\n",
       "Adb                             448\n",
       "Lga                             442\n",
       "Amref                           425\n",
       "Fini Water                      393\n",
       "Oxfam                           359\n",
       "Wateraid                        333\n",
       "Rc Church                       321\n",
       "Isf                             316\n",
       "                               ... \n",
       "Islamic Community                 1\n",
       "Icf                               1\n",
       "Pori La Akiba Kigosi              1\n",
       "Fabia                             1\n",
       "Kanisa La Mitume                  1\n",
       "Lusajo                            1\n",
       "Msigw                             1\n",
       "Marafin                           1\n",
       "John Fund                         1\n",
       "Africaone Ltd                     1\n",
       "Bgssws                            1\n",
       "Dom                               1\n",
       "Buluga Subvillage Community       1\n",
       "Matyenye                          1\n",
       "Nipon & Panoco                    1\n",
       "Shule Ya Sekondari Ipuli          1\n",
       "Jafary Mbaga                      1\n",
       "Taasaf                            1\n",
       "Zaburi And Neig                   1\n",
       "Pankrasi                          1\n",
       "Maju Mugumu                       1\n",
       "Cg/rc                             1\n",
       "Muslim Society                    1\n",
       "Pentecostal                       1\n",
       "Mnyama                            1\n",
       "Quick Win                         1\n",
       "Cper                              1\n",
       "Twende Pamoja                     1\n",
       "Cida                              1\n",
       "Tlc/samora                        1\n",
       "Name: funder, dtype: int64"
      ]
     },
     "execution_count": 338,
     "metadata": {},
     "output_type": "execute_result"
    }
   ],
   "source": [
    "train_set.funder.value_counts()"
   ]
  },
  {
   "cell_type": "code",
   "execution_count": 339,
   "metadata": {
    "collapsed": false,
    "scrolled": true
   },
   "outputs": [
    {
     "data": {
      "text/plain": [
       " 0       20438\n",
       "-15         60\n",
       "-16         55\n",
       "-13         55\n",
       "-20         52\n",
       " 1290       52\n",
       "-14         51\n",
       " 303        51\n",
       "-18         49\n",
       "-19         47\n",
       " 1269       46\n",
       " 1295       46\n",
       " 1304       45\n",
       "-23         45\n",
       " 280        44\n",
       " 1538       44\n",
       " 1286       44\n",
       "-8          44\n",
       "-17         44\n",
       " 1332       43\n",
       " 320        43\n",
       " 1317       42\n",
       " 1293       42\n",
       " 1319       42\n",
       " 1359       42\n",
       " 1264       42\n",
       " 1288       42\n",
       " 1401       42\n",
       " 1303       42\n",
       "-27         42\n",
       "         ...  \n",
       " 2506        1\n",
       " 2023        1\n",
       "-53          1\n",
       " 2364        1\n",
       " 2332        1\n",
       " 2402        1\n",
       " 2236        1\n",
       " 2420        1\n",
       " 2291        1\n",
       " 2407        1\n",
       " 2080        1\n",
       " 2250        1\n",
       " 591         1\n",
       " 2378        1\n",
       " 2535        1\n",
       " 2614        1\n",
       " 2484        1\n",
       " 2450        1\n",
       " 2072        1\n",
       " 2286        1\n",
       " 2567        1\n",
       " 2322        1\n",
       " 2254        1\n",
       " 2264        1\n",
       " 2464        1\n",
       " 2285        1\n",
       " 2424        1\n",
       " 2552        1\n",
       " 2413        1\n",
       " 2385        1\n",
       "Name: gps_height, dtype: int64"
      ]
     },
     "execution_count": 339,
     "metadata": {},
     "output_type": "execute_result"
    }
   ],
   "source": [
    "train_set.gps_height.value_counts()"
   ]
  },
  {
   "cell_type": "code",
   "execution_count": 340,
   "metadata": {
    "collapsed": false,
    "scrolled": true
   },
   "outputs": [
    {
     "data": {
      "text/plain": [
       "Madukani          508\n",
       "Shuleni           506\n",
       "Majengo           502\n",
       "Kati              373\n",
       "Mtakuja           262\n",
       "Sokoni            232\n",
       "M                 187\n",
       "Muungano          172\n",
       "Mbuyuni           164\n",
       "Mlimani           152\n",
       "Songambele        147\n",
       "Miembeni          134\n",
       "Msikitini         134\n",
       "1                 132\n",
       "Kibaoni           114\n",
       "Kanisani          111\n",
       "Mapinduzi         109\n",
       "I                 109\n",
       "Mjini             108\n",
       "Mjimwema          108\n",
       "Mkwajuni          104\n",
       "Mwenge            102\n",
       "Mabatini           98\n",
       "Azimio             98\n",
       "Mission            95\n",
       "Mbugani            95\n",
       "Bwawani            91\n",
       "Bondeni            90\n",
       "Chang'Ombe         88\n",
       "Zahanati           86\n",
       "                 ... \n",
       "Humbo               1\n",
       "Nyailungu           1\n",
       "Likweje A           1\n",
       "Mwamagiri           1\n",
       "Bulanda             1\n",
       "Rujebe              1\n",
       "Kahe Ya Zamani      1\n",
       "Mvumi B             1\n",
       "Gumbilo B           1\n",
       "Ilekebu             1\n",
       "Maleti              1\n",
       "Ndughwila           1\n",
       "Chamwandu           1\n",
       "Kwebua A            1\n",
       "Nyarusonzo          1\n",
       "Msoghoo             1\n",
       "Buyando             1\n",
       "Norukunjui          1\n",
       "Rutenga             1\n",
       "Kamnyazya           1\n",
       "Mgera               1\n",
       "Shukeni             1\n",
       "Pazu                1\n",
       "Imbambasi           1\n",
       "Chankwama           1\n",
       "Izugawima           1\n",
       "Kumurumo            1\n",
       "Matwiga             1\n",
       "Busamtya            1\n",
       "Manchira            1\n",
       "Name: subvillage, dtype: int64"
      ]
     },
     "execution_count": 340,
     "metadata": {},
     "output_type": "execute_result"
    }
   ],
   "source": [
    "train_set.subvillage.value_counts()"
   ]
  },
  {
   "cell_type": "code",
   "execution_count": 341,
   "metadata": {
    "collapsed": false
   },
   "outputs": [
    {
     "data": {
      "text/plain": [
       "True     51011\n",
       "False     5055\n",
       "Name: public_meeting, dtype: int64"
      ]
     },
     "execution_count": 341,
     "metadata": {},
     "output_type": "execute_result"
    }
   ],
   "source": [
    "train_set.public_meeting.value_counts()"
   ]
  },
  {
   "cell_type": "code",
   "execution_count": 342,
   "metadata": {
    "collapsed": false
   },
   "outputs": [
    {
     "data": {
      "text/plain": [
       "VWC                 36793\n",
       "WUG                  5206\n",
       "Water authority      3153\n",
       "WUA                  2883\n",
       "Water Board          2748\n",
       "Parastatal           1680\n",
       "Private operator     1063\n",
       "Company              1061\n",
       "Other                 766\n",
       "SWC                    97\n",
       "Trust                  72\n",
       "None                    1\n",
       "Name: scheme_management, dtype: int64"
      ]
     },
     "execution_count": 342,
     "metadata": {},
     "output_type": "execute_result"
    }
   ],
   "source": [
    "train_set.scheme_management.value_counts()"
   ]
  },
  {
   "cell_type": "code",
   "execution_count": 343,
   "metadata": {
    "collapsed": false
   },
   "outputs": [
    {
     "data": {
      "text/plain": [
       "True     38852\n",
       "False    17492\n",
       "Name: permit, dtype: int64"
      ]
     },
     "execution_count": 343,
     "metadata": {},
     "output_type": "execute_result"
    }
   ],
   "source": [
    "train_set.permit.value_counts()"
   ]
  },
  {
   "cell_type": "markdown",
   "metadata": {},
   "source": [
    "We have quite a few options herer for these missing values: imputing them, replacing them with another values or dropping them. \n",
    "\n",
    "In our case I think that replacing them is a good option. However we won't do it right now, we will do some data exploration and consider if it is wiser to just \"bundle\" missing values with other values that are rare in each categorical columns. "
   ]
  },
  {
   "cell_type": "markdown",
   "metadata": {},
   "source": [
    "Let's turn the date column to data time type:"
   ]
  },
  {
   "cell_type": "code",
   "execution_count": 344,
   "metadata": {
    "collapsed": true
   },
   "outputs": [],
   "source": [
    "to_datetime = lambda raw_string: datetime.strptime(raw_string, '%Y-%m-%d').date()"
   ]
  },
  {
   "cell_type": "code",
   "execution_count": 345,
   "metadata": {
    "collapsed": false
   },
   "outputs": [],
   "source": [
    "train_set.date_recorded = train_set.date_recorded.apply(to_datetime)"
   ]
  },
  {
   "cell_type": "code",
   "execution_count": 346,
   "metadata": {
    "collapsed": true
   },
   "outputs": [],
   "source": [
    "test_set.date_recorded = test_set.date_recorded.apply(to_datetime)"
   ]
  },
  {
   "cell_type": "markdown",
   "metadata": {},
   "source": [
    "Cool, now while on it, we create other columns named **recorded_year** and **Age** for the pumps too."
   ]
  },
  {
   "cell_type": "code",
   "execution_count": 347,
   "metadata": {
    "collapsed": false
   },
   "outputs": [],
   "source": [
    "extract_year = lambda raw_datetime: raw_datetime.year"
   ]
  },
  {
   "cell_type": "code",
   "execution_count": 348,
   "metadata": {
    "collapsed": true
   },
   "outputs": [],
   "source": [
    "train_set['recorded_year'] = train_set.date_recorded.apply(extract_year)\n",
    "\n",
    "train_set['age'] = train_set.recorded_year - train_set.construction_year"
   ]
  },
  {
   "cell_type": "code",
   "execution_count": 349,
   "metadata": {
    "collapsed": true
   },
   "outputs": [],
   "source": [
    "test_set['recorded_year'] = test_set.date_recorded.apply(extract_year)\n",
    "\n",
    "test_set['age'] = test_set.recorded_year - test_set.construction_year"
   ]
  },
  {
   "cell_type": "code",
   "execution_count": 350,
   "metadata": {
    "collapsed": false,
    "scrolled": true
   },
   "outputs": [
    {
     "data": {
      "text/plain": [
       "id\n",
       "69572      12\n",
       "8776        3\n",
       "34310       4\n",
       "67743      27\n",
       "19728    2011\n",
       "9944        2\n",
       "19816    2012\n",
       "54551    2012\n",
       "53934    2012\n",
       "46144    2011\n",
       "49056       0\n",
       "50409      26\n",
       "36957    2012\n",
       "50495       4\n",
       "53752    2012\n",
       "61848      20\n",
       "48451      33\n",
       "58155      33\n",
       "34169      12\n",
       "18274      19\n",
       "48375       3\n",
       "6091     2013\n",
       "58500      33\n",
       "37862       2\n",
       "51058       4\n",
       "22308      39\n",
       "55012       2\n",
       "20145    2011\n",
       "19685      13\n",
       "69124      11\n",
       "         ... \n",
       "14796    2013\n",
       "20387    2012\n",
       "29940    2012\n",
       "15233      25\n",
       "49651    2012\n",
       "50998       6\n",
       "34716      23\n",
       "43986    2012\n",
       "38067       3\n",
       "58255    2011\n",
       "30647      12\n",
       "67885      19\n",
       "47002       5\n",
       "44616       5\n",
       "72148    2011\n",
       "34473       1\n",
       "34952       2\n",
       "26640      13\n",
       "72559      18\n",
       "30410       2\n",
       "13677      20\n",
       "44885      46\n",
       "40607    2011\n",
       "48348    2012\n",
       "11164       4\n",
       "60739      14\n",
       "27263      15\n",
       "37057    2011\n",
       "31282    2011\n",
       "26348       9\n",
       "Name: age, dtype: int64"
      ]
     },
     "execution_count": 350,
     "metadata": {},
     "output_type": "execute_result"
    }
   ],
   "source": [
    "train_set.age"
   ]
  },
  {
   "cell_type": "markdown",
   "metadata": {},
   "source": [
    "Wow there is obviously a problem here: many rows have `age` very large, which means that the construction year is 0, we will need to check for 0 in construction year then. "
   ]
  },
  {
   "cell_type": "code",
   "execution_count": 351,
   "metadata": {
    "collapsed": false,
    "scrolled": true
   },
   "outputs": [
    {
     "data": {
      "text/plain": [
       "0       20709\n",
       "2010     2645\n",
       "2008     2613\n",
       "2009     2533\n",
       "2000     2091\n",
       "2007     1587\n",
       "2006     1471\n",
       "2003     1286\n",
       "2011     1256\n",
       "2004     1123\n",
       "2012     1084\n",
       "2002     1075\n",
       "1978     1037\n",
       "1995     1014\n",
       "2005     1011\n",
       "1999      979\n",
       "1998      966\n",
       "1990      954\n",
       "1985      945\n",
       "1980      811\n",
       "1996      811\n",
       "1984      779\n",
       "1982      744\n",
       "1994      738\n",
       "1972      708\n",
       "1974      676\n",
       "1997      644\n",
       "1992      640\n",
       "1993      608\n",
       "2001      540\n",
       "1988      521\n",
       "1983      488\n",
       "1975      437\n",
       "1986      434\n",
       "1976      414\n",
       "1970      411\n",
       "1991      324\n",
       "1989      316\n",
       "1987      302\n",
       "1981      238\n",
       "1977      202\n",
       "1979      192\n",
       "1973      184\n",
       "2013      176\n",
       "1971      145\n",
       "1960      102\n",
       "1967       88\n",
       "1963       85\n",
       "1968       77\n",
       "1969       59\n",
       "1964       40\n",
       "1962       30\n",
       "1961       21\n",
       "1965       19\n",
       "1966       17\n",
       "Name: construction_year, dtype: int64"
      ]
     },
     "execution_count": 351,
     "metadata": {},
     "output_type": "execute_result"
    }
   ],
   "source": [
    "train_set.construction_year.value_counts()"
   ]
  },
  {
   "cell_type": "markdown",
   "metadata": {},
   "source": [
    "This will be quite troubling: we have 20709 missing values, which is almost half of our data. But this could be a very important feature, so we don't want to drop it."
   ]
  },
  {
   "cell_type": "code",
   "execution_count": 352,
   "metadata": {
    "collapsed": false
   },
   "outputs": [
    {
     "data": {
      "image/png": "[encoded data removed]",
      "text/plain": [
       "<matplotlib.figure.Figure at 0x12e390850>"
      ]
     },
     "metadata": {},
     "output_type": "display_data"
    }
   ],
   "source": [
    "_=sns.boxplot(train_set[train_set.construction_year != 0].construction_year)"
   ]
  },
  {
   "cell_type": "markdown",
   "metadata": {},
   "source": [
    "For now, we will replace the missing value by the median, which is 2000, but we will return to this later on the feature engineering part."
   ]
  },
  {
   "cell_type": "code",
   "execution_count": 353,
   "metadata": {
    "collapsed": false
   },
   "outputs": [],
   "source": [
    "imp = Imputer(missing_values=0, strategy='median', axis=0)\n",
    "imp.fit(train_set.construction_year.reshape(-1,1)) # the reshape part is for avoiding an annoying warning message. \n",
    "\n",
    "train_set.construction_year = imp.transform(train_set.construction_year.reshape(-1,1))\n",
    "test_set.construction_year = imp.transform(test_set.construction_year.reshape(-1,1))"
   ]
  },
  {
   "cell_type": "code",
   "execution_count": 354,
   "metadata": {
    "collapsed": false,
    "scrolled": true
   },
   "outputs": [
    {
     "data": {
      "text/plain": [
       "2000.0    22800\n",
       "2010.0     2645\n",
       "2008.0     2613\n",
       "2009.0     2533\n",
       "2007.0     1587\n",
       "2006.0     1471\n",
       "2003.0     1286\n",
       "2011.0     1256\n",
       "2004.0     1123\n",
       "2012.0     1084\n",
       "2002.0     1075\n",
       "1978.0     1037\n",
       "1995.0     1014\n",
       "2005.0     1011\n",
       "1999.0      979\n",
       "1998.0      966\n",
       "1990.0      954\n",
       "1985.0      945\n",
       "1996.0      811\n",
       "1980.0      811\n",
       "1984.0      779\n",
       "1982.0      744\n",
       "1994.0      738\n",
       "1972.0      708\n",
       "1974.0      676\n",
       "1997.0      644\n",
       "1992.0      640\n",
       "1993.0      608\n",
       "2001.0      540\n",
       "1988.0      521\n",
       "1983.0      488\n",
       "1975.0      437\n",
       "1986.0      434\n",
       "1976.0      414\n",
       "1970.0      411\n",
       "1991.0      324\n",
       "1989.0      316\n",
       "1987.0      302\n",
       "1981.0      238\n",
       "1977.0      202\n",
       "1979.0      192\n",
       "1973.0      184\n",
       "2013.0      176\n",
       "1971.0      145\n",
       "1960.0      102\n",
       "1967.0       88\n",
       "1963.0       85\n",
       "1968.0       77\n",
       "1969.0       59\n",
       "1964.0       40\n",
       "1962.0       30\n",
       "1961.0       21\n",
       "1965.0       19\n",
       "1966.0       17\n",
       "Name: construction_year, dtype: int64"
      ]
     },
     "execution_count": 354,
     "metadata": {},
     "output_type": "execute_result"
    }
   ],
   "source": [
    "train_set.construction_year.value_counts()"
   ]
  },
  {
   "cell_type": "markdown",
   "metadata": {},
   "source": [
    "Let's recompute the `age` feature:"
   ]
  },
  {
   "cell_type": "code",
   "execution_count": 355,
   "metadata": {
    "collapsed": false
   },
   "outputs": [],
   "source": [
    "train_set['age'] = train_set.recorded_year - train_set.construction_year"
   ]
  },
  {
   "cell_type": "code",
   "execution_count": 356,
   "metadata": {
    "collapsed": true
   },
   "outputs": [],
   "source": [
    "test_set['age'] = test_set.recorded_year - test_set.construction_year"
   ]
  },
  {
   "cell_type": "code",
   "execution_count": 357,
   "metadata": {
    "collapsed": false,
    "scrolled": true
   },
   "outputs": [
    {
     "data": {
      "text/plain": [
       " 11.0    14695\n",
       " 12.0     5701\n",
       " 13.0     4079\n",
       " 3.0      2740\n",
       " 1.0      2303\n",
       " 2.0      2130\n",
       " 5.0      1980\n",
       " 4.0      1903\n",
       " 7.0      1404\n",
       " 6.0      1381\n",
       " 14.0     1160\n",
       " 8.0      1160\n",
       " 33.0     1120\n",
       " 15.0      993\n",
       " 23.0      905\n",
       " 10.0      868\n",
       " 16.0      826\n",
       " 9.0       814\n",
       " 19.0      766\n",
       " 27.0      762\n",
       " 18.0      754\n",
       " 28.0      709\n",
       " 31.0      709\n",
       " 35.0      647\n",
       " 17.0      636\n",
       " 39.0      601\n",
       " 37.0      600\n",
       " 26.0      589\n",
       " 0.0       588\n",
       " 25.0      583\n",
       " 21.0      578\n",
       " 29.0      564\n",
       " 20.0      541\n",
       " 41.0      488\n",
       " 30.0      359\n",
       " 43.0      356\n",
       " 38.0      351\n",
       " 36.0      325\n",
       " 22.0      323\n",
       " 24.0      261\n",
       " 40.0      233\n",
       " 34.0      184\n",
       " 32.0      174\n",
       " 53.0       91\n",
       " 42.0       90\n",
       " 50.0       84\n",
       " 45.0       66\n",
       " 46.0       48\n",
       " 44.0       47\n",
       " 48.0       41\n",
       " 51.0       31\n",
       " 49.0       25\n",
       " 47.0       14\n",
       " 52.0       11\n",
       "-5.0         3\n",
       "-4.0         2\n",
       "-3.0         1\n",
       "-7.0         1\n",
       "-1.0         1\n",
       "-2.0         1\n",
       "Name: age, dtype: int64"
      ]
     },
     "execution_count": 357,
     "metadata": {},
     "output_type": "execute_result"
    }
   ],
   "source": [
    "train_set.age.value_counts()"
   ]
  },
  {
   "cell_type": "markdown",
   "metadata": {},
   "source": [
    "We check the `population` features to see if there are any problems:"
   ]
  },
  {
   "cell_type": "code",
   "execution_count": 358,
   "metadata": {
    "collapsed": false
   },
   "outputs": [
    {
     "data": {
      "image/png": "[encoded data removed]",
      "text/plain": [
       "<matplotlib.figure.Figure at 0x12e3c6ad0>"
      ]
     },
     "metadata": {},
     "output_type": "display_data"
    }
   ],
   "source": [
    "_=plt.hist(train_set.population, bins = np.arange(min(train_set.population), max(train_set.population),100), normed=True)"
   ]
  },
  {
   "cell_type": "markdown",
   "metadata": {},
   "source": [
    "There are a lot of values \"0\", for now we replace them by the mean."
   ]
  },
  {
   "cell_type": "code",
   "execution_count": 359,
   "metadata": {
    "collapsed": false
   },
   "outputs": [],
   "source": [
    "imp = Imputer(missing_values=0, strategy='mean', axis=0)\n",
    "imp.fit(train_set.population.reshape(-1,1)) # the reshape part is for avoiding an annoying warning message. \n",
    "\n",
    "train_set.population = imp.transform(train_set.population.reshape(-1,1))\n",
    "test_set.population = imp.transform(test_set.population.reshape(-1,1))"
   ]
  },
  {
   "cell_type": "code",
   "execution_count": 360,
   "metadata": {
    "collapsed": false
   },
   "outputs": [
    {
     "data": {
      "image/png": "[encoded data removed]",
      "text/plain": [
       "<matplotlib.figure.Figure at 0x12e430bd0>"
      ]
     },
     "metadata": {},
     "output_type": "display_data"
    }
   ],
   "source": [
    "_=plt.hist(train_set.population, bins = np.arange(min(train_set.population), max(train_set.population),100), normed=True)"
   ]
  },
  {
   "cell_type": "code",
   "execution_count": 361,
   "metadata": {
    "collapsed": false,
    "scrolled": true
   },
   "outputs": [
    {
     "data": {
      "text/plain": [
       "Index([u'amount_tsh', u'date_recorded', u'funder', u'gps_height', u'installer',\n",
       "       u'longitude', u'latitude', u'wpt_name', u'num_private', u'basin',\n",
       "       u'subvillage', u'region', u'region_code', u'district_code', u'lga',\n",
       "       u'ward', u'population', u'public_meeting', u'recorded_by',\n",
       "       u'scheme_management', u'permit', u'construction_year',\n",
       "       u'extraction_type', u'extraction_type_group', u'extraction_type_class',\n",
       "       u'management', u'management_group', u'payment', u'payment_type',\n",
       "       u'water_quality', u'quality_group', u'quantity', u'quantity_group',\n",
       "       u'source', u'source_type', u'source_class', u'waterpoint_type',\n",
       "       u'waterpoint_type_group', u'status_group', u'recorded_year', u'age'],\n",
       "      dtype='object')"
      ]
     },
     "execution_count": 361,
     "metadata": {},
     "output_type": "execute_result"
    }
   ],
   "source": [
    "train_set.columns"
   ]
  },
  {
   "cell_type": "markdown",
   "metadata": {},
   "source": [
    "## Exploratory Data Analyses"
   ]
  },
  {
   "cell_type": "code",
   "execution_count": 362,
   "metadata": {
    "collapsed": false
   },
   "outputs": [
    {
     "data": {
      "text/plain": [
       "<matplotlib.axes._subplots.AxesSubplot at 0x17a7e1a50>"
      ]
     },
     "execution_count": 362,
     "metadata": {},
     "output_type": "execute_result"
    },
    {
     "data": {
      "image/png": "[encoded data removed]",
      "text/plain": [
       "<matplotlib.figure.Figure at 0x1251d1250>"
      ]
     },
     "metadata": {},
     "output_type": "display_data"
    }
   ],
   "source": [
    "sns.countplot(y='region', data=train_set, hue='status_group')"
   ]
  },
  {
   "cell_type": "markdown",
   "metadata": {},
   "source": [
    "Most of the region have more functioning waterpoints than broken ones, except some (Mara, Mtwara, Tabora...)"
   ]
  },
  {
   "cell_type": "code",
   "execution_count": 363,
   "metadata": {
    "collapsed": false
   },
   "outputs": [
    {
     "data": {
      "text/plain": [
       "<matplotlib.axes._subplots.AxesSubplot at 0x17c3174d0>"
      ]
     },
     "execution_count": 363,
     "metadata": {},
     "output_type": "execute_result"
    },
    {
     "data": {
      "image/png": "[encoded data removed]",
      "text/plain": [
       "<matplotlib.figure.Figure at 0x12e43cd50>"
      ]
     },
     "metadata": {},
     "output_type": "display_data"
    }
   ],
   "source": [
    "sns.countplot(y=train_set.extraction_type_class, hue= train_set.status_group)"
   ]
  },
  {
   "cell_type": "code",
   "execution_count": 364,
   "metadata": {
    "collapsed": false
   },
   "outputs": [
    {
     "data": {
      "text/plain": [
       "<matplotlib.axes._subplots.AxesSubplot at 0x17dd9d2d0>"
      ]
     },
     "execution_count": 364,
     "metadata": {},
     "output_type": "execute_result"
    },
    {
     "data": {
      "image/png": "[encoded data removed]",
      "text/plain": [
       "<matplotlib.figure.Figure at 0x12e449810>"
      ]
     },
     "metadata": {},
     "output_type": "display_data"
    }
   ],
   "source": [
    "sns.boxplot(x=train_set.status_group, y=train_set.age)"
   ]
  },
  {
   "cell_type": "markdown",
   "metadata": {},
   "source": [
    "Old pumps are more likely to have problems than the new ones."
   ]
  },
  {
   "cell_type": "code",
   "execution_count": 365,
   "metadata": {
    "collapsed": false
   },
   "outputs": [
    {
     "data": {
      "text/plain": [
       "soft                  50818\n",
       "salty                  4856\n",
       "unknown                1876\n",
       "milky                   804\n",
       "coloured                490\n",
       "salty abandoned         339\n",
       "fluoride                200\n",
       "fluoride abandoned       17\n",
       "Name: water_quality, dtype: int64"
      ]
     },
     "execution_count": 365,
     "metadata": {},
     "output_type": "execute_result"
    }
   ],
   "source": [
    "train_set.water_quality.value_counts()"
   ]
  },
  {
   "cell_type": "code",
   "execution_count": 366,
   "metadata": {
    "collapsed": false
   },
   "outputs": [
    {
     "data": {
      "text/plain": [
       "<matplotlib.axes._subplots.AxesSubplot at 0x17dda18d0>"
      ]
     },
     "execution_count": 366,
     "metadata": {},
     "output_type": "execute_result"
    },
    {
     "data": {
      "image/png": "[encoded data removed]",
      "text/plain": [
       "<matplotlib.figure.Figure at 0x17c064990>"
      ]
     },
     "metadata": {},
     "output_type": "display_data"
    }
   ],
   "source": [
    "sns.countplot(y=train_set.water_quality, hue=train_set.status_group)"
   ]
  },
  {
   "cell_type": "code",
   "execution_count": 367,
   "metadata": {
    "collapsed": false
   },
   "outputs": [
    {
     "data": {
      "text/plain": [
       "enough          33186\n",
       "insufficient    15129\n",
       "dry              6246\n",
       "seasonal         4050\n",
       "unknown           789\n",
       "Name: quantity, dtype: int64"
      ]
     },
     "execution_count": 367,
     "metadata": {},
     "output_type": "execute_result"
    }
   ],
   "source": [
    "train_set.quantity.value_counts()"
   ]
  },
  {
   "cell_type": "code",
   "execution_count": 368,
   "metadata": {
    "collapsed": false
   },
   "outputs": [
    {
     "data": {
      "text/plain": [
       "<matplotlib.axes._subplots.AxesSubplot at 0x180bd7a10>"
      ]
     },
     "execution_count": 368,
     "metadata": {},
     "output_type": "execute_result"
    },
    {
     "data": {
      "image/png": "[encoded data removed]",
      "text/plain": [
       "<matplotlib.figure.Figure at 0x17c30e790>"
      ]
     },
     "metadata": {},
     "output_type": "display_data"
    }
   ],
   "source": [
    "sns.countplot(y=train_set.quantity, hue=train_set.status_group)"
   ]
  },
  {
   "cell_type": "code",
   "execution_count": 369,
   "metadata": {
    "collapsed": false
   },
   "outputs": [
    {
     "data": {
      "text/plain": [
       "communal standpipe             28522\n",
       "hand pump                      17488\n",
       "other                           6380\n",
       "communal standpipe multiple     6103\n",
       "improved spring                  784\n",
       "cattle trough                    116\n",
       "dam                                7\n",
       "Name: waterpoint_type, dtype: int64"
      ]
     },
     "execution_count": 369,
     "metadata": {},
     "output_type": "execute_result"
    }
   ],
   "source": [
    "train_set.waterpoint_type.value_counts()"
   ]
  },
  {
   "cell_type": "code",
   "execution_count": 370,
   "metadata": {
    "collapsed": false
   },
   "outputs": [
    {
     "data": {
      "text/plain": [
       "<matplotlib.axes._subplots.AxesSubplot at 0x17f293250>"
      ]
     },
     "execution_count": 370,
     "metadata": {},
     "output_type": "execute_result"
    },
    {
     "data": {
      "image/png": "[encoded data removed]",
      "text/plain": [
       "<matplotlib.figure.Figure at 0x17befc310>"
      ]
     },
     "metadata": {},
     "output_type": "display_data"
    }
   ],
   "source": [
    "sns.countplot(y=train_set.waterpoint_type, hue=train_set.status_group)"
   ]
  },
  {
   "cell_type": "code",
   "execution_count": 371,
   "metadata": {
    "collapsed": false
   },
   "outputs": [
    {
     "data": {
      "text/plain": [
       "never pay                25348\n",
       "pay per bucket            8985\n",
       "pay monthly               8300\n",
       "unknown                   8157\n",
       "pay when scheme fails     3914\n",
       "pay annually              3642\n",
       "other                     1054\n",
       "Name: payment, dtype: int64"
      ]
     },
     "execution_count": 371,
     "metadata": {},
     "output_type": "execute_result"
    }
   ],
   "source": [
    "train_set.payment.value_counts()"
   ]
  },
  {
   "cell_type": "code",
   "execution_count": 372,
   "metadata": {
    "collapsed": false
   },
   "outputs": [
    {
     "data": {
      "text/plain": [
       "<matplotlib.axes._subplots.AxesSubplot at 0x17df9c310>"
      ]
     },
     "execution_count": 372,
     "metadata": {},
     "output_type": "execute_result"
    },
    {
     "data": {
      "image/png": "[encoded data removed]",
      "text/plain": [
       "<matplotlib.figure.Figure at 0x17ddbf910>"
      ]
     },
     "metadata": {},
     "output_type": "display_data"
    }
   ],
   "source": [
    "sns.countplot(y=train_set.payment, hue=train_set.status_group)"
   ]
  },
  {
   "cell_type": "markdown",
   "metadata": {},
   "source": [
    "## Model"
   ]
  },
  {
   "cell_type": "code",
   "execution_count": 373,
   "metadata": {
    "collapsed": false
   },
   "outputs": [
    {
     "name": "stdout",
     "output_type": "stream",
     "text": [
      "<class 'pandas.core.frame.DataFrame'>\n",
      "Int64Index: 59400 entries, 69572 to 26348\n",
      "Data columns (total 41 columns):\n",
      "amount_tsh               59400 non-null float64\n",
      "date_recorded            59400 non-null object\n",
      "funder                   55765 non-null object\n",
      "gps_height               59400 non-null int64\n",
      "installer                55745 non-null object\n",
      "longitude                59400 non-null float64\n",
      "latitude                 59400 non-null float64\n",
      "wpt_name                 59400 non-null object\n",
      "num_private              59400 non-null int64\n",
      "basin                    59400 non-null object\n",
      "subvillage               59029 non-null object\n",
      "region                   59400 non-null object\n",
      "region_code              59400 non-null int64\n",
      "district_code            59400 non-null int64\n",
      "lga                      59400 non-null object\n",
      "ward                     59400 non-null object\n",
      "population               59400 non-null float64\n",
      "public_meeting           56066 non-null object\n",
      "recorded_by              59400 non-null object\n",
      "scheme_management        55523 non-null object\n",
      "permit                   56344 non-null object\n",
      "construction_year        59400 non-null float64\n",
      "extraction_type          59400 non-null object\n",
      "extraction_type_group    59400 non-null object\n",
      "extraction_type_class    59400 non-null object\n",
      "management               59400 non-null object\n",
      "management_group         59400 non-null object\n",
      "payment                  59400 non-null object\n",
      "payment_type             59400 non-null object\n",
      "water_quality            59400 non-null object\n",
      "quality_group            59400 non-null object\n",
      "quantity                 59400 non-null object\n",
      "quantity_group           59400 non-null object\n",
      "source                   59400 non-null object\n",
      "source_type              59400 non-null object\n",
      "source_class             59400 non-null object\n",
      "waterpoint_type          59400 non-null object\n",
      "waterpoint_type_group    59400 non-null object\n",
      "status_group             59400 non-null object\n",
      "recorded_year            59400 non-null int64\n",
      "age                      59400 non-null float64\n",
      "dtypes: float64(6), int64(5), object(30)\n",
      "memory usage: 19.0+ MB\n"
     ]
    }
   ],
   "source": [
    "train_set.info()"
   ]
  },
  {
   "cell_type": "code",
   "execution_count": 421,
   "metadata": {
    "collapsed": true
   },
   "outputs": [],
   "source": [
    "drop_list = ['ward','subvillage','wpt_name','installer','funder', 'date_recorded', 'num_private', 'region','extraction_type_class', \n",
    "             'extraction_type_group', 'recorded_year', 'construction_year', 'source', 'source_class', 'quality_group', 'quantity_group', \n",
    "             'payment', 'management_group','waterpoint_type_group', 'public_meeting']"
   ]
  },
  {
   "cell_type": "code",
   "execution_count": 422,
   "metadata": {
    "collapsed": false
   },
   "outputs": [],
   "source": [
    "train = train_set.drop(drop_list, axis=1)"
   ]
  },
  {
   "cell_type": "code",
   "execution_count": 423,
   "metadata": {
    "collapsed": false
   },
   "outputs": [],
   "source": [
    "test = test_set.drop(drop_list, axis=1)"
   ]
  },
  {
   "cell_type": "code",
   "execution_count": 424,
   "metadata": {
    "collapsed": false
   },
   "outputs": [
    {
     "data": {
      "text/plain": [
       "array([True, nan, False], dtype=object)"
      ]
     },
     "execution_count": 424,
     "metadata": {},
     "output_type": "execute_result"
    }
   ],
   "source": [
    "train_set.public_meeting.unique()"
   ]
  },
  {
   "cell_type": "code",
   "execution_count": 425,
   "metadata": {
    "collapsed": false
   },
   "outputs": [
    {
     "data": {
      "text/plain": [
       "array([True, nan, False], dtype=object)"
      ]
     },
     "execution_count": 425,
     "metadata": {},
     "output_type": "execute_result"
    }
   ],
   "source": [
    "test_set.public_meeting.unique()"
   ]
  },
  {
   "cell_type": "markdown",
   "metadata": {},
   "source": [
    "Now we create a function to encode categorical label into numerical value."
   ]
  },
  {
   "cell_type": "code",
   "execution_count": 428,
   "metadata": {
    "collapsed": true
   },
   "outputs": [],
   "source": [
    "def encode_label(train_df, test_df):\n",
    "    \n",
    "    new_train_df = train_df.copy()\n",
    "    new_test_df = test_df.copy()\n",
    "    \n",
    "    df_col = new_train_df.columns.tolist()\n",
    "    \n",
    "    for col in df_col:\n",
    "        if new_train_df[col].dtypes == object:\n",
    "            le = preprocessing.LabelEncoder()\n",
    "            new_train_df[col] = le.fit_transform(new_train_df[col])\n",
    "            if col != 'status_group':\n",
    "                new_test_df[col] = le.transform(new_test_df[col])\n",
    "                \n",
    "    return new_train_df, new_test_df"
   ]
  },
  {
   "cell_type": "code",
   "execution_count": 429,
   "metadata": {
    "collapsed": false
   },
   "outputs": [],
   "source": [
    "train_df, test_df = encode_label(train, test)"
   ]
  },
  {
   "cell_type": "code",
   "execution_count": 436,
   "metadata": {
    "collapsed": false
   },
   "outputs": [
    {
     "data": {
      "text/plain": [
       "0    32259\n",
       "2    22824\n",
       "1     4317\n",
       "Name: status_group, dtype: int64"
      ]
     },
     "execution_count": 436,
     "metadata": {},
     "output_type": "execute_result"
    }
   ],
   "source": [
    "train_df.status_group.value_counts()"
   ]
  },
  {
   "cell_type": "code",
   "execution_count": 437,
   "metadata": {
    "collapsed": false
   },
   "outputs": [
    {
     "data": {
      "text/plain": [
       "array(['functional', 'non functional', 'functional needs repair'], dtype=object)"
      ]
     },
     "execution_count": 437,
     "metadata": {},
     "output_type": "execute_result"
    }
   ],
   "source": [
    "train_set.status_group.unique()"
   ]
  },
  {
   "cell_type": "code",
   "execution_count": 438,
   "metadata": {
    "collapsed": true
   },
   "outputs": [],
   "source": [
    "convert_label = lambda x: 'functional' if x == 0 else 'non functional' if x == 2 else 'functional needs repair'"
   ]
  },
  {
   "cell_type": "markdown",
   "metadata": {},
   "source": [
    "Ok, let's build a quick model:"
   ]
  },
  {
   "cell_type": "code",
   "execution_count": 430,
   "metadata": {
    "collapsed": true
   },
   "outputs": [],
   "source": [
    "feature_list = [col for col in train_df.columns if col != 'status_group']"
   ]
  },
  {
   "cell_type": "code",
   "execution_count": 431,
   "metadata": {
    "collapsed": true
   },
   "outputs": [],
   "source": [
    "clf = RandomForestClassifier(n_estimators=500)"
   ]
  },
  {
   "cell_type": "code",
   "execution_count": 299,
   "metadata": {
    "collapsed": false
   },
   "outputs": [
    {
     "name": "stderr",
     "output_type": "stream",
     "text": [
      "[Parallel(n_jobs=1)]: Done  10 out of  10 | elapsed: 12.1min finished\n"
     ]
    }
   ],
   "source": [
    "error = cross_validation.cross_val_score(clf, train_df[feature_list], train_df['status_group'], \n",
    "                                         scoring='accuracy', cv=10, verbose=1 )"
   ]
  },
  {
   "cell_type": "code",
   "execution_count": 300,
   "metadata": {
    "collapsed": false
   },
   "outputs": [
    {
     "data": {
      "text/plain": [
       "array([ 0.81720249,  0.82023228,  0.81720249,  0.80609325,  0.82457912,\n",
       "        0.81178451,  0.81599327,  0.80619633,  0.80518606,  0.82199394])"
      ]
     },
     "execution_count": 300,
     "metadata": {},
     "output_type": "execute_result"
    }
   ],
   "source": [
    "error"
   ]
  },
  {
   "cell_type": "code",
   "execution_count": 432,
   "metadata": {
    "collapsed": false
   },
   "outputs": [
    {
     "data": {
      "text/plain": [
       "RandomForestClassifier(bootstrap=True, class_weight=None, criterion='gini',\n",
       "            max_depth=None, max_features='auto', max_leaf_nodes=None,\n",
       "            min_samples_leaf=1, min_samples_split=2,\n",
       "            min_weight_fraction_leaf=0.0, n_estimators=500, n_jobs=1,\n",
       "            oob_score=False, random_state=None, verbose=0,\n",
       "            warm_start=False)"
      ]
     },
     "execution_count": 432,
     "metadata": {},
     "output_type": "execute_result"
    }
   ],
   "source": [
    "clf.fit(train_df[feature_list], train_df['status_group'])"
   ]
  },
  {
   "cell_type": "code",
   "execution_count": 433,
   "metadata": {
    "collapsed": true
   },
   "outputs": [],
   "source": [
    "prediction = clf.predict(test_df[feature_list])"
   ]
  },
  {
   "cell_type": "code",
   "execution_count": 443,
   "metadata": {
    "collapsed": false
   },
   "outputs": [],
   "source": [
    "prediction_label = map(convert_label, prediction)"
   ]
  },
  {
   "cell_type": "code",
   "execution_count": 444,
   "metadata": {
    "collapsed": false,
    "scrolled": true
   },
   "outputs": [
    {
     "data": {
      "text/plain": [
       "['non functional',\n",
       " 'functional',\n",
       " 'functional',\n",
       " 'non functional',\n",
       " 'functional',\n",
       " 'functional',\n",
       " 'non functional',\n",
       " 'non functional',\n",
       " 'non functional',\n",
       " 'functional',\n",
       " 'functional',\n",
       " 'non functional',\n",
       " 'non functional',\n",
       " 'non functional',\n",
       " 'functional',\n",
       " 'functional',\n",
       " 'functional',\n",
       " 'functional',\n",
       " 'functional',\n",
       " 'non functional',\n",
       " 'functional',\n",
       " 'non functional',\n",
       " 'non functional',\n",
       " 'non functional',\n",
       " 'functional',\n",
       " 'functional',\n",
       " 'non functional',\n",
       " 'non functional',\n",
       " 'functional needs repair',\n",
       " 'functional',\n",
       " 'functional',\n",
       " 'non functional',\n",
       " 'functional',\n",
       " 'functional',\n",
       " 'functional',\n",
       " 'functional',\n",
       " 'functional',\n",
       " 'functional needs repair',\n",
       " 'non functional',\n",
       " 'non functional',\n",
       " 'functional',\n",
       " 'functional',\n",
       " 'non functional',\n",
       " 'non functional',\n",
       " 'functional',\n",
       " 'non functional',\n",
       " 'non functional',\n",
       " 'functional',\n",
       " 'functional',\n",
       " 'functional',\n",
       " 'functional',\n",
       " 'functional',\n",
       " 'non functional',\n",
       " 'non functional',\n",
       " 'non functional',\n",
       " 'non functional',\n",
       " 'functional needs repair',\n",
       " 'non functional',\n",
       " 'functional',\n",
       " 'non functional',\n",
       " 'functional',\n",
       " 'functional',\n",
       " 'functional',\n",
       " 'non functional',\n",
       " 'functional',\n",
       " 'functional',\n",
       " 'functional',\n",
       " 'non functional',\n",
       " 'functional',\n",
       " 'non functional',\n",
       " 'non functional',\n",
       " 'functional needs repair',\n",
       " 'functional',\n",
       " 'non functional',\n",
       " 'non functional',\n",
       " 'functional',\n",
       " 'functional',\n",
       " 'functional',\n",
       " 'functional',\n",
       " 'non functional',\n",
       " 'non functional',\n",
       " 'non functional',\n",
       " 'functional',\n",
       " 'functional',\n",
       " 'functional',\n",
       " 'functional',\n",
       " 'functional',\n",
       " 'non functional',\n",
       " 'non functional',\n",
       " 'functional',\n",
       " 'functional',\n",
       " 'non functional',\n",
       " 'functional',\n",
       " 'non functional',\n",
       " 'functional',\n",
       " 'functional',\n",
       " 'functional',\n",
       " 'functional',\n",
       " 'functional',\n",
       " 'non functional',\n",
       " 'non functional',\n",
       " 'non functional',\n",
       " 'non functional',\n",
       " 'functional',\n",
       " 'functional',\n",
       " 'functional',\n",
       " 'functional',\n",
       " 'functional',\n",
       " 'functional',\n",
       " 'functional',\n",
       " 'functional',\n",
       " 'non functional',\n",
       " 'functional',\n",
       " 'functional',\n",
       " 'non functional',\n",
       " 'non functional',\n",
       " 'non functional',\n",
       " 'non functional',\n",
       " 'functional',\n",
       " 'non functional',\n",
       " 'non functional',\n",
       " 'functional',\n",
       " 'functional',\n",
       " 'functional',\n",
       " 'functional',\n",
       " 'non functional',\n",
       " 'functional',\n",
       " 'functional',\n",
       " 'functional',\n",
       " 'functional',\n",
       " 'functional',\n",
       " 'functional',\n",
       " 'non functional',\n",
       " 'non functional',\n",
       " 'functional',\n",
       " 'functional needs repair',\n",
       " 'functional',\n",
       " 'functional needs repair',\n",
       " 'functional',\n",
       " 'functional',\n",
       " 'functional',\n",
       " 'functional',\n",
       " 'non functional',\n",
       " 'non functional',\n",
       " 'functional',\n",
       " 'functional',\n",
       " 'non functional',\n",
       " 'functional',\n",
       " 'non functional',\n",
       " 'non functional',\n",
       " 'functional',\n",
       " 'functional needs repair',\n",
       " 'functional',\n",
       " 'functional',\n",
       " 'non functional',\n",
       " 'functional',\n",
       " 'functional',\n",
       " 'non functional',\n",
       " 'functional',\n",
       " 'non functional',\n",
       " 'functional',\n",
       " 'non functional',\n",
       " 'non functional',\n",
       " 'non functional',\n",
       " 'functional',\n",
       " 'non functional',\n",
       " 'non functional',\n",
       " 'functional',\n",
       " 'functional',\n",
       " 'functional',\n",
       " 'non functional',\n",
       " 'functional',\n",
       " 'functional',\n",
       " 'non functional',\n",
       " 'functional',\n",
       " 'functional',\n",
       " 'non functional',\n",
       " 'non functional',\n",
       " 'functional',\n",
       " 'functional',\n",
       " 'non functional',\n",
       " 'functional',\n",
       " 'functional',\n",
       " 'functional',\n",
       " 'non functional',\n",
       " 'non functional',\n",
       " 'non functional',\n",
       " 'non functional',\n",
       " 'non functional',\n",
       " 'functional',\n",
       " 'functional',\n",
       " 'functional',\n",
       " 'functional needs repair',\n",
       " 'functional',\n",
       " 'functional',\n",
       " 'non functional',\n",
       " 'functional',\n",
       " 'non functional',\n",
       " 'functional needs repair',\n",
       " 'functional',\n",
       " 'functional',\n",
       " 'functional needs repair',\n",
       " 'functional',\n",
       " 'functional',\n",
       " 'non functional',\n",
       " 'functional',\n",
       " 'non functional',\n",
       " 'non functional',\n",
       " 'functional',\n",
       " 'functional',\n",
       " 'functional',\n",
       " 'non functional',\n",
       " 'functional',\n",
       " 'non functional',\n",
       " 'functional needs repair',\n",
       " 'functional',\n",
       " 'non functional',\n",
       " 'functional',\n",
       " 'non functional',\n",
       " 'functional',\n",
       " 'functional',\n",
       " 'functional',\n",
       " 'functional',\n",
       " 'functional',\n",
       " 'non functional',\n",
       " 'non functional',\n",
       " 'functional',\n",
       " 'functional',\n",
       " 'non functional',\n",
       " 'functional',\n",
       " 'non functional',\n",
       " 'non functional',\n",
       " 'functional',\n",
       " 'functional',\n",
       " 'functional',\n",
       " 'functional',\n",
       " 'functional needs repair',\n",
       " 'functional',\n",
       " 'functional',\n",
       " 'functional',\n",
       " 'functional',\n",
       " 'functional',\n",
       " 'functional',\n",
       " 'non functional',\n",
       " 'functional',\n",
       " 'functional',\n",
       " 'non functional',\n",
       " 'functional',\n",
       " 'functional',\n",
       " 'non functional',\n",
       " 'functional needs repair',\n",
       " 'functional',\n",
       " 'non functional',\n",
       " 'functional',\n",
       " 'functional',\n",
       " 'functional',\n",
       " 'non functional',\n",
       " 'functional',\n",
       " 'functional',\n",
       " 'functional',\n",
       " 'functional',\n",
       " 'non functional',\n",
       " 'functional',\n",
       " 'functional needs repair',\n",
       " 'functional',\n",
       " 'non functional',\n",
       " 'non functional',\n",
       " 'non functional',\n",
       " 'functional',\n",
       " 'non functional',\n",
       " 'functional',\n",
       " 'non functional',\n",
       " 'functional',\n",
       " 'functional',\n",
       " 'functional',\n",
       " 'functional',\n",
       " 'functional',\n",
       " 'functional',\n",
       " 'functional',\n",
       " 'functional',\n",
       " 'functional',\n",
       " 'functional needs repair',\n",
       " 'functional',\n",
       " 'non functional',\n",
       " 'functional',\n",
       " 'functional',\n",
       " 'functional',\n",
       " 'functional needs repair',\n",
       " 'non functional',\n",
       " 'functional',\n",
       " 'functional',\n",
       " 'non functional',\n",
       " 'non functional',\n",
       " 'functional',\n",
       " 'functional',\n",
       " 'functional',\n",
       " 'non functional',\n",
       " 'functional needs repair',\n",
       " 'non functional',\n",
       " 'non functional',\n",
       " 'non functional',\n",
       " 'non functional',\n",
       " 'non functional',\n",
       " 'non functional',\n",
       " 'functional',\n",
       " 'non functional',\n",
       " 'functional',\n",
       " 'non functional',\n",
       " 'non functional',\n",
       " 'functional',\n",
       " 'functional',\n",
       " 'non functional',\n",
       " 'functional',\n",
       " 'functional',\n",
       " 'functional',\n",
       " 'functional',\n",
       " 'functional',\n",
       " 'functional',\n",
       " 'functional',\n",
       " 'functional',\n",
       " 'functional',\n",
       " 'functional',\n",
       " 'functional',\n",
       " 'functional',\n",
       " 'non functional',\n",
       " 'functional',\n",
       " 'non functional',\n",
       " 'non functional',\n",
       " 'functional',\n",
       " 'non functional',\n",
       " 'non functional',\n",
       " 'non functional',\n",
       " 'non functional',\n",
       " 'non functional',\n",
       " 'non functional',\n",
       " 'functional',\n",
       " 'functional',\n",
       " 'non functional',\n",
       " 'functional',\n",
       " 'non functional',\n",
       " 'functional',\n",
       " 'non functional',\n",
       " 'functional',\n",
       " 'functional',\n",
       " 'non functional',\n",
       " 'functional',\n",
       " 'functional',\n",
       " 'functional',\n",
       " 'functional',\n",
       " 'non functional',\n",
       " 'functional',\n",
       " 'functional',\n",
       " 'non functional',\n",
       " 'functional',\n",
       " 'non functional',\n",
       " 'functional',\n",
       " 'functional',\n",
       " 'functional',\n",
       " 'functional',\n",
       " 'functional',\n",
       " 'functional',\n",
       " 'functional',\n",
       " 'functional',\n",
       " 'non functional',\n",
       " 'functional',\n",
       " 'functional',\n",
       " 'functional',\n",
       " 'functional',\n",
       " 'non functional',\n",
       " 'functional',\n",
       " 'non functional',\n",
       " 'non functional',\n",
       " 'non functional',\n",
       " 'non functional',\n",
       " 'functional',\n",
       " 'non functional',\n",
       " 'functional',\n",
       " 'non functional',\n",
       " 'functional',\n",
       " 'functional',\n",
       " 'non functional',\n",
       " 'non functional',\n",
       " 'functional',\n",
       " 'non functional',\n",
       " 'functional',\n",
       " 'functional',\n",
       " 'non functional',\n",
       " 'functional',\n",
       " 'non functional',\n",
       " 'functional',\n",
       " 'non functional',\n",
       " 'functional',\n",
       " 'functional',\n",
       " 'functional',\n",
       " 'functional',\n",
       " 'non functional',\n",
       " 'non functional',\n",
       " 'non functional',\n",
       " 'functional',\n",
       " 'functional',\n",
       " 'functional',\n",
       " 'non functional',\n",
       " 'non functional',\n",
       " 'non functional',\n",
       " 'non functional',\n",
       " 'non functional',\n",
       " 'functional',\n",
       " 'non functional',\n",
       " 'functional',\n",
       " 'functional',\n",
       " 'functional',\n",
       " 'functional',\n",
       " 'non functional',\n",
       " 'functional',\n",
       " 'functional',\n",
       " 'functional',\n",
       " 'non functional',\n",
       " 'non functional',\n",
       " 'functional',\n",
       " 'non functional',\n",
       " 'functional',\n",
       " 'functional',\n",
       " 'functional needs repair',\n",
       " 'functional',\n",
       " 'functional',\n",
       " 'functional',\n",
       " 'functional',\n",
       " 'functional',\n",
       " 'non functional',\n",
       " 'functional',\n",
       " 'functional',\n",
       " 'non functional',\n",
       " 'functional',\n",
       " 'non functional',\n",
       " 'non functional',\n",
       " 'functional',\n",
       " 'functional',\n",
       " 'non functional',\n",
       " 'functional',\n",
       " 'functional',\n",
       " 'functional needs repair',\n",
       " 'non functional',\n",
       " 'functional',\n",
       " 'non functional',\n",
       " 'functional',\n",
       " 'functional',\n",
       " 'non functional',\n",
       " 'non functional',\n",
       " 'non functional',\n",
       " 'functional',\n",
       " 'non functional',\n",
       " 'non functional',\n",
       " 'non functional',\n",
       " 'functional',\n",
       " 'non functional',\n",
       " 'non functional',\n",
       " 'non functional',\n",
       " 'non functional',\n",
       " 'functional',\n",
       " 'non functional',\n",
       " 'functional',\n",
       " 'non functional',\n",
       " 'non functional',\n",
       " 'functional',\n",
       " 'non functional',\n",
       " 'non functional',\n",
       " 'functional',\n",
       " 'non functional',\n",
       " 'non functional',\n",
       " 'functional',\n",
       " 'non functional',\n",
       " 'functional',\n",
       " 'non functional',\n",
       " 'functional',\n",
       " 'non functional',\n",
       " 'non functional',\n",
       " 'non functional',\n",
       " 'functional',\n",
       " 'functional',\n",
       " 'non functional',\n",
       " 'functional',\n",
       " 'functional',\n",
       " 'non functional',\n",
       " 'non functional',\n",
       " 'functional',\n",
       " 'functional',\n",
       " 'functional',\n",
       " 'functional',\n",
       " 'non functional',\n",
       " 'non functional',\n",
       " 'non functional',\n",
       " 'non functional',\n",
       " 'functional',\n",
       " 'functional',\n",
       " 'functional',\n",
       " 'functional',\n",
       " 'functional',\n",
       " 'non functional',\n",
       " 'non functional',\n",
       " 'non functional',\n",
       " 'functional',\n",
       " 'non functional',\n",
       " 'non functional',\n",
       " 'functional',\n",
       " 'functional',\n",
       " 'non functional',\n",
       " 'functional',\n",
       " 'functional',\n",
       " 'non functional',\n",
       " 'functional',\n",
       " 'non functional',\n",
       " 'non functional',\n",
       " 'functional',\n",
       " 'functional',\n",
       " 'functional',\n",
       " 'functional',\n",
       " 'functional',\n",
       " 'functional',\n",
       " 'functional',\n",
       " 'functional',\n",
       " 'non functional',\n",
       " 'functional',\n",
       " 'functional',\n",
       " 'non functional',\n",
       " 'functional',\n",
       " 'functional needs repair',\n",
       " 'non functional',\n",
       " 'functional',\n",
       " 'functional',\n",
       " 'non functional',\n",
       " 'functional',\n",
       " 'non functional',\n",
       " 'non functional',\n",
       " 'non functional',\n",
       " 'functional needs repair',\n",
       " 'non functional',\n",
       " 'non functional',\n",
       " 'functional',\n",
       " 'functional',\n",
       " 'functional',\n",
       " 'non functional',\n",
       " 'functional',\n",
       " 'non functional',\n",
       " 'non functional',\n",
       " 'non functional',\n",
       " 'non functional',\n",
       " 'functional',\n",
       " 'functional',\n",
       " 'functional',\n",
       " 'functional',\n",
       " 'functional',\n",
       " 'functional',\n",
       " 'functional',\n",
       " 'functional',\n",
       " 'non functional',\n",
       " 'non functional',\n",
       " 'functional',\n",
       " 'functional',\n",
       " 'functional',\n",
       " 'functional',\n",
       " 'functional',\n",
       " 'non functional',\n",
       " 'functional',\n",
       " 'functional',\n",
       " 'non functional',\n",
       " 'non functional',\n",
       " 'non functional',\n",
       " 'non functional',\n",
       " 'non functional',\n",
       " 'non functional',\n",
       " 'functional',\n",
       " 'functional',\n",
       " 'non functional',\n",
       " 'functional',\n",
       " 'non functional',\n",
       " 'functional',\n",
       " 'non functional',\n",
       " 'functional',\n",
       " 'functional',\n",
       " 'functional',\n",
       " 'functional',\n",
       " 'functional',\n",
       " 'non functional',\n",
       " 'non functional',\n",
       " 'functional',\n",
       " 'non functional',\n",
       " 'functional',\n",
       " 'functional',\n",
       " 'functional',\n",
       " 'functional',\n",
       " 'functional',\n",
       " 'functional',\n",
       " 'non functional',\n",
       " 'functional',\n",
       " 'non functional',\n",
       " 'functional',\n",
       " 'non functional',\n",
       " 'functional',\n",
       " 'non functional',\n",
       " 'functional',\n",
       " 'non functional',\n",
       " 'functional',\n",
       " 'functional',\n",
       " 'functional',\n",
       " 'functional',\n",
       " 'functional',\n",
       " 'functional',\n",
       " 'non functional',\n",
       " 'non functional',\n",
       " 'non functional',\n",
       " 'non functional',\n",
       " 'functional needs repair',\n",
       " 'functional',\n",
       " 'functional',\n",
       " 'functional',\n",
       " 'functional',\n",
       " 'non functional',\n",
       " 'non functional',\n",
       " 'functional',\n",
       " 'functional',\n",
       " 'functional',\n",
       " 'non functional',\n",
       " 'functional',\n",
       " 'non functional',\n",
       " 'functional',\n",
       " 'non functional',\n",
       " 'functional',\n",
       " 'non functional',\n",
       " 'non functional',\n",
       " 'functional needs repair',\n",
       " 'functional',\n",
       " 'functional',\n",
       " 'functional',\n",
       " 'functional',\n",
       " 'functional',\n",
       " 'functional',\n",
       " 'non functional',\n",
       " 'functional',\n",
       " 'functional',\n",
       " 'functional',\n",
       " 'non functional',\n",
       " 'functional',\n",
       " 'functional',\n",
       " 'functional',\n",
       " 'non functional',\n",
       " 'functional',\n",
       " 'functional',\n",
       " 'non functional',\n",
       " 'functional',\n",
       " 'non functional',\n",
       " 'functional',\n",
       " 'functional',\n",
       " 'functional',\n",
       " 'non functional',\n",
       " 'non functional',\n",
       " 'non functional',\n",
       " 'non functional',\n",
       " 'non functional',\n",
       " 'functional',\n",
       " 'functional',\n",
       " 'functional',\n",
       " 'non functional',\n",
       " 'functional needs repair',\n",
       " 'functional',\n",
       " 'functional',\n",
       " 'functional',\n",
       " 'functional',\n",
       " 'non functional',\n",
       " 'non functional',\n",
       " 'functional',\n",
       " 'functional',\n",
       " 'functional',\n",
       " 'functional',\n",
       " 'non functional',\n",
       " 'functional needs repair',\n",
       " 'functional',\n",
       " 'functional',\n",
       " 'functional',\n",
       " 'functional',\n",
       " 'functional',\n",
       " 'non functional',\n",
       " 'non functional',\n",
       " 'non functional',\n",
       " 'functional',\n",
       " 'functional',\n",
       " 'functional',\n",
       " 'non functional',\n",
       " 'non functional',\n",
       " 'functional needs repair',\n",
       " 'functional',\n",
       " 'functional',\n",
       " 'functional',\n",
       " 'functional',\n",
       " 'non functional',\n",
       " 'functional needs repair',\n",
       " 'functional',\n",
       " 'functional',\n",
       " 'non functional',\n",
       " 'functional',\n",
       " 'functional',\n",
       " 'functional',\n",
       " 'functional',\n",
       " 'functional',\n",
       " 'functional',\n",
       " 'functional',\n",
       " 'functional',\n",
       " 'non functional',\n",
       " 'functional',\n",
       " 'non functional',\n",
       " 'functional',\n",
       " 'functional',\n",
       " 'non functional',\n",
       " 'non functional',\n",
       " 'functional',\n",
       " 'non functional',\n",
       " 'functional',\n",
       " 'non functional',\n",
       " 'non functional',\n",
       " 'non functional',\n",
       " 'non functional',\n",
       " 'non functional',\n",
       " 'non functional',\n",
       " 'functional',\n",
       " 'functional',\n",
       " 'non functional',\n",
       " 'functional',\n",
       " 'functional',\n",
       " 'functional',\n",
       " 'non functional',\n",
       " 'functional',\n",
       " 'functional',\n",
       " 'functional',\n",
       " 'functional',\n",
       " 'functional',\n",
       " 'functional needs repair',\n",
       " 'non functional',\n",
       " 'non functional',\n",
       " 'functional',\n",
       " 'non functional',\n",
       " 'non functional',\n",
       " 'non functional',\n",
       " 'functional',\n",
       " 'functional',\n",
       " 'functional',\n",
       " 'non functional',\n",
       " 'non functional',\n",
       " 'non functional',\n",
       " 'functional',\n",
       " 'non functional',\n",
       " 'functional',\n",
       " 'functional',\n",
       " 'functional',\n",
       " 'functional',\n",
       " 'functional',\n",
       " 'functional',\n",
       " 'non functional',\n",
       " 'functional',\n",
       " 'functional',\n",
       " 'non functional',\n",
       " 'non functional',\n",
       " 'functional',\n",
       " 'non functional',\n",
       " 'non functional',\n",
       " 'non functional',\n",
       " 'functional',\n",
       " 'functional',\n",
       " 'functional needs repair',\n",
       " 'functional',\n",
       " 'functional',\n",
       " 'functional',\n",
       " 'functional',\n",
       " 'functional',\n",
       " 'non functional',\n",
       " 'non functional',\n",
       " 'functional',\n",
       " 'non functional',\n",
       " 'non functional',\n",
       " 'non functional',\n",
       " 'functional',\n",
       " 'functional',\n",
       " 'functional',\n",
       " 'non functional',\n",
       " 'non functional',\n",
       " 'functional',\n",
       " 'functional',\n",
       " 'functional',\n",
       " 'functional',\n",
       " 'functional',\n",
       " 'functional',\n",
       " 'non functional',\n",
       " 'functional',\n",
       " 'non functional',\n",
       " 'functional',\n",
       " 'functional',\n",
       " 'non functional',\n",
       " 'non functional',\n",
       " 'non functional',\n",
       " 'functional',\n",
       " 'functional',\n",
       " 'functional',\n",
       " 'non functional',\n",
       " 'functional',\n",
       " 'functional',\n",
       " 'functional',\n",
       " 'functional',\n",
       " 'functional',\n",
       " 'functional',\n",
       " 'functional',\n",
       " 'non functional',\n",
       " 'non functional',\n",
       " 'functional',\n",
       " 'functional',\n",
       " 'functional',\n",
       " 'functional',\n",
       " 'functional',\n",
       " 'functional needs repair',\n",
       " 'non functional',\n",
       " 'functional',\n",
       " 'functional',\n",
       " 'non functional',\n",
       " 'non functional',\n",
       " 'functional needs repair',\n",
       " 'non functional',\n",
       " 'non functional',\n",
       " 'functional',\n",
       " 'non functional',\n",
       " 'functional',\n",
       " 'non functional',\n",
       " 'functional',\n",
       " 'non functional',\n",
       " 'functional',\n",
       " 'functional',\n",
       " 'functional',\n",
       " 'non functional',\n",
       " 'non functional',\n",
       " 'functional',\n",
       " 'non functional',\n",
       " 'functional',\n",
       " 'functional',\n",
       " 'functional',\n",
       " 'functional',\n",
       " 'functional',\n",
       " 'non functional',\n",
       " 'functional',\n",
       " 'functional',\n",
       " 'functional',\n",
       " 'functional',\n",
       " 'functional',\n",
       " 'non functional',\n",
       " 'functional',\n",
       " 'non functional',\n",
       " 'functional',\n",
       " 'functional',\n",
       " 'functional',\n",
       " 'functional',\n",
       " 'non functional',\n",
       " 'non functional',\n",
       " 'non functional',\n",
       " 'non functional',\n",
       " 'functional',\n",
       " 'functional',\n",
       " 'non functional',\n",
       " 'functional',\n",
       " 'functional',\n",
       " 'functional',\n",
       " 'functional',\n",
       " 'functional',\n",
       " 'functional',\n",
       " 'functional',\n",
       " 'functional',\n",
       " 'functional',\n",
       " 'functional',\n",
       " 'non functional',\n",
       " 'functional',\n",
       " 'functional',\n",
       " 'non functional',\n",
       " 'functional',\n",
       " 'functional',\n",
       " 'functional',\n",
       " 'non functional',\n",
       " 'functional',\n",
       " 'non functional',\n",
       " 'functional needs repair',\n",
       " 'non functional',\n",
       " 'functional',\n",
       " 'non functional',\n",
       " 'functional',\n",
       " 'non functional',\n",
       " 'functional',\n",
       " 'non functional',\n",
       " 'functional',\n",
       " 'functional needs repair',\n",
       " 'non functional',\n",
       " 'non functional',\n",
       " 'non functional',\n",
       " 'functional',\n",
       " 'non functional',\n",
       " 'non functional',\n",
       " 'functional',\n",
       " 'functional',\n",
       " 'functional',\n",
       " 'functional',\n",
       " 'functional',\n",
       " 'functional',\n",
       " 'functional',\n",
       " 'non functional',\n",
       " 'functional',\n",
       " 'functional',\n",
       " 'functional needs repair',\n",
       " 'functional needs repair',\n",
       " 'non functional',\n",
       " 'functional',\n",
       " 'functional',\n",
       " 'functional',\n",
       " 'non functional',\n",
       " 'non functional',\n",
       " 'functional',\n",
       " 'functional',\n",
       " 'non functional',\n",
       " 'functional',\n",
       " 'functional',\n",
       " 'non functional',\n",
       " 'non functional',\n",
       " 'non functional',\n",
       " 'non functional',\n",
       " 'non functional',\n",
       " 'non functional',\n",
       " 'functional',\n",
       " 'non functional',\n",
       " 'functional',\n",
       " 'non functional',\n",
       " 'functional',\n",
       " 'non functional',\n",
       " 'non functional',\n",
       " 'non functional',\n",
       " 'functional',\n",
       " 'functional',\n",
       " 'functional',\n",
       " 'functional',\n",
       " 'non functional',\n",
       " 'functional',\n",
       " 'functional',\n",
       " 'non functional',\n",
       " 'functional',\n",
       " 'functional',\n",
       " 'functional',\n",
       " 'functional',\n",
       " 'functional',\n",
       " 'functional',\n",
       " 'non functional',\n",
       " 'functional',\n",
       " 'non functional',\n",
       " 'functional',\n",
       " 'non functional',\n",
       " 'functional',\n",
       " 'functional',\n",
       " 'functional',\n",
       " 'non functional',\n",
       " 'functional',\n",
       " 'functional',\n",
       " 'functional',\n",
       " 'functional',\n",
       " 'functional',\n",
       " 'non functional',\n",
       " 'non functional',\n",
       " 'non functional',\n",
       " 'non functional',\n",
       " 'functional',\n",
       " 'functional',\n",
       " 'functional',\n",
       " 'non functional',\n",
       " 'functional',\n",
       " 'functional',\n",
       " 'functional',\n",
       " 'functional',\n",
       " 'non functional',\n",
       " 'functional',\n",
       " 'functional',\n",
       " 'functional',\n",
       " 'functional',\n",
       " 'functional',\n",
       " 'non functional',\n",
       " 'non functional',\n",
       " 'functional',\n",
       " 'functional',\n",
       " 'functional',\n",
       " 'functional',\n",
       " 'functional',\n",
       " 'functional',\n",
       " 'functional',\n",
       " 'functional',\n",
       " 'functional',\n",
       " 'non functional',\n",
       " 'functional',\n",
       " 'non functional',\n",
       " 'functional',\n",
       " 'functional',\n",
       " 'functional',\n",
       " 'functional',\n",
       " 'functional',\n",
       " ...]"
      ]
     },
     "execution_count": 444,
     "metadata": {},
     "output_type": "execute_result"
    }
   ],
   "source": [
    "prediction_label"
   ]
  },
  {
   "cell_type": "code",
   "execution_count": 447,
   "metadata": {
    "collapsed": false
   },
   "outputs": [],
   "source": [
    "result = test.copy()"
   ]
  },
  {
   "cell_type": "code",
   "execution_count": 448,
   "metadata": {
    "collapsed": true
   },
   "outputs": [],
   "source": [
    "result['status_group'] = prediction_label"
   ]
  },
  {
   "cell_type": "code",
   "execution_count": 455,
   "metadata": {
    "collapsed": false,
    "scrolled": true
   },
   "outputs": [],
   "source": [
    "result = result.loc[:,['status_group']]"
   ]
  },
  {
   "cell_type": "code",
   "execution_count": 456,
   "metadata": {
    "collapsed": true
   },
   "outputs": [],
   "source": [
    "result.to_csv('submission.csv')"
   ]
  },
  {
   "cell_type": "code",
   "execution_count": null,
   "metadata": {
    "collapsed": true
   },
   "outputs": [],
   "source": []
  },
  {
   "cell_type": "code",
   "execution_count": null,
   "metadata": {
    "collapsed": true
   },
   "outputs": [],
   "source": []
  },
  {
   "cell_type": "code",
   "execution_count": null,
   "metadata": {
    "collapsed": true
   },
   "outputs": [],
   "source": []
  },
  {
   "cell_type": "code",
   "execution_count": null,
   "metadata": {
    "collapsed": true
   },
   "outputs": [],
   "source": []
  },
  {
   "cell_type": "code",
   "execution_count": null,
   "metadata": {
    "collapsed": true
   },
   "outputs": [],
   "source": []
  },
  {
   "cell_type": "code",
   "execution_count": null,
   "metadata": {
    "collapsed": true
   },
   "outputs": [],
   "source": []
  },
  {
   "cell_type": "code",
   "execution_count": null,
   "metadata": {
    "collapsed": true
   },
   "outputs": [],
   "source": []
  },
  {
   "cell_type": "code",
   "execution_count": null,
   "metadata": {
    "collapsed": true
   },
   "outputs": [],
   "source": []
  },
  {
   "cell_type": "code",
   "execution_count": null,
   "metadata": {
    "collapsed": true
   },
   "outputs": [],
   "source": []
  }
 ],
 "metadata": {
  "kernelspec": {
   "display_name": "Python [Root]",
   "language": "python",
   "name": "Python [Root]"
  },
  "language_info": {
   "codemirror_mode": {
    "name": "ipython",
    "version": 2
   },
   "file_extension": ".py",
   "mimetype": "text/x-python",
   "name": "python",
   "nbconvert_exporter": "python",
   "pygments_lexer": "ipython2",
   "version": "2.7.12"
  }
 },
 "nbformat": 4,
 "nbformat_minor": 0
}
